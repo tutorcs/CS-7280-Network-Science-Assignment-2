{
 "cells": [
  {
   "cell_type": "code",
   "execution_count": 2,
   "metadata": {
    "id": "x-uvoPXmisuV",
    "pycharm": {
     "name": "#%%\n"
    }
   },
   "outputs": [],
   "source": [
    "import collections\n",
    "\n",
    "import networkx as nx\n",
    "import matplotlib.pyplot as plt\n",
    "import numpy as np\n",
    "import pandas as pd\n",
    "\n",
    "from powerlaw import *"
   ]
  },
  {
   "cell_type": "markdown",
   "metadata": {
    "id": "V1bMqBJmisua",
    "pycharm": {
     "name": "#%% md\n"
    }
   },
   "source": [
    "# Part 0"
   ]
  },
  {
   "cell_type": "code",
   "execution_count": 3,
   "metadata": {
    "id": "n0Yr395iisub",
    "pycharm": {
     "name": "#%%\n"
    }
   },
   "outputs": [],
   "source": [
    "# Parse the \"blog.txt\" into graph"
   ]
  },
  {
   "cell_type": "markdown",
   "metadata": {
    "id": "mbD7mISrisub",
    "pycharm": {
     "name": "#%% md\n"
    }
   },
   "source": [
    "# Part 1"
   ]
  },
  {
   "cell_type": "markdown",
   "metadata": {
    "id": "vFvFV1y6isub",
    "pycharm": {
     "name": "#%% md\n"
    }
   },
   "source": [
    "## out-degree distribution"
   ]
  },
  {
   "cell_type": "code",
   "execution_count": 4,
   "metadata": {
    "id": "kj-J_dvFisub",
    "pycharm": {
     "name": "#%%\n"
    }
   },
   "outputs": [],
   "source": [
    "# Plot the out-degree distribution"
   ]
  },
  {
   "cell_type": "markdown",
   "source": [
    "### fitting without xmax"
   ],
   "metadata": {
    "collapsed": false,
    "pycharm": {
     "name": "#%% md\n"
    }
   }
  },
  {
   "cell_type": "code",
   "execution_count": 5,
   "outputs": [],
   "source": [
    "#fit the out-degree distribution without xmax"
   ],
   "metadata": {
    "collapsed": false,
    "pycharm": {
     "name": "#%%\n"
    }
   }
  },
  {
   "cell_type": "markdown",
   "source": [
    "### fitting with xmax"
   ],
   "metadata": {
    "collapsed": false,
    "pycharm": {
     "name": "#%% md\n"
    }
   }
  },
  {
   "cell_type": "code",
   "execution_count": 6,
   "outputs": [],
   "source": [
    "#fit the out-degree distribution with xmax = 200"
   ],
   "metadata": {
    "collapsed": false,
    "pycharm": {
     "name": "#%%\n"
    }
   }
  },
  {
   "cell_type": "markdown",
   "source": [
    "## in-degree distribution"
   ],
   "metadata": {
    "collapsed": false,
    "pycharm": {
     "name": "#%% md\n"
    }
   }
  },
  {
   "cell_type": "code",
   "execution_count": 7,
   "outputs": [],
   "source": [
    "# Plot the in-degree distribution"
   ],
   "metadata": {
    "collapsed": false,
    "pycharm": {
     "name": "#%%\n"
    }
   }
  },
  {
   "cell_type": "markdown",
   "source": [
    "### fitting without xmax"
   ],
   "metadata": {
    "collapsed": false,
    "pycharm": {
     "name": "#%% md\n"
    }
   }
  },
  {
   "cell_type": "code",
   "execution_count": 8,
   "outputs": [],
   "source": [
    "# Fit the in-degree distribution without xmax"
   ],
   "metadata": {
    "collapsed": false,
    "pycharm": {
     "name": "#%%\n"
    }
   }
  },
  {
   "cell_type": "markdown",
   "metadata": {
    "id": "zouKPdK8isue",
    "pycharm": {
     "name": "#%% md\n"
    }
   },
   "source": [
    "### fitting with xmax"
   ]
  },
  {
   "cell_type": "code",
   "execution_count": 9,
   "metadata": {
    "id": "8h_kJEp5isue",
    "pycharm": {
     "name": "#%%\n"
    }
   },
   "outputs": [],
   "source": [
    "# Fit the in-degree distribution with xmax = 300"
   ]
  },
  {
   "cell_type": "markdown",
   "metadata": {
    "id": "KxTbWM1Nisue",
    "pycharm": {
     "name": "#%% md\n"
    }
   },
   "source": [
    "# Part 2"
   ]
  },
  {
   "cell_type": "markdown",
   "metadata": {
    "id": "KX79CtfNisue",
    "pycharm": {
     "name": "#%% md\n"
    }
   },
   "source": [
    "## Q1"
   ]
  },
  {
   "cell_type": "code",
   "execution_count": 10,
   "metadata": {
    "id": "Kz1lsQJJisue",
    "pycharm": {
     "name": "#%%\n"
    }
   },
   "outputs": [],
   "source": [
    "# Compute the Pearson correlation coefficient"
   ]
  },
  {
   "cell_type": "markdown",
   "metadata": {
    "id": "UUnHnGucisue",
    "pycharm": {
     "name": "#%% md\n"
    }
   },
   "source": [
    "Based on the result, do you think this network is assortative, disassortative or neutral? write 1-2 sentence(s) to state your conclusion and reasons."
   ]
  },
  {
   "cell_type": "markdown",
   "metadata": {
    "id": "uWR1tiFsisuf",
    "pycharm": {
     "name": "#%% md\n"
    }
   },
   "source": [
    "## Q2"
   ]
  },
  {
   "cell_type": "code",
   "execution_count": 11,
   "metadata": {
    "id": "HhFVVhavisuf",
    "pycharm": {
     "name": "#%%\n"
    }
   },
   "outputs": [],
   "source": [
    "# Plot the average neighbor degree as a function of the node degree k"
   ]
  },
  {
   "cell_type": "markdown",
   "metadata": {
    "id": "LZGg4xjdisuf",
    "pycharm": {
     "name": "#%% md\n"
    }
   },
   "source": [
    "# Part 3"
   ]
  },
  {
   "cell_type": "markdown",
   "metadata": {
    "id": "jlvfPyYUisuf",
    "pycharm": {
     "name": "#%% md\n"
    }
   },
   "source": [
    "## Q1"
   ]
  },
  {
   "cell_type": "code",
   "execution_count": 12,
   "metadata": {
    "id": "uPOFjwptisuf",
    "pycharm": {
     "name": "#%%\n"
    }
   },
   "outputs": [],
   "source": [
    "# Plot the diameters of the LCC and the 100 G(n,p) networks"
   ]
  },
  {
   "cell_type": "markdown",
   "metadata": {
    "id": "cB_Gefbtisug",
    "pycharm": {
     "name": "#%% md\n"
    }
   },
   "source": [
    "## Q2"
   ]
  },
  {
   "cell_type": "code",
   "execution_count": 13,
   "metadata": {
    "id": "NosGchmCisug",
    "scrolled": true,
    "pycharm": {
     "name": "#%%\n"
    }
   },
   "outputs": [],
   "source": [
    "# Plot the average shortest path length of the LCC and the 100 G(n,p) networks"
   ]
  },
  {
   "cell_type": "markdown",
   "source": [
    "## Q3"
   ],
   "metadata": {
    "collapsed": false,
    "pycharm": {
     "name": "#%% md\n"
    }
   }
  },
  {
   "cell_type": "markdown",
   "metadata": {
    "id": "jAjc6FTiisug",
    "pycharm": {
     "name": "#%% md\n"
    }
   },
   "source": [
    "Use the one-sample t-test to examine if the diameter of the undirected network is significantly different than the diameter of the random networks at a 95% significance level. Perform the same test for the average shortest path length. Answer for each: Are the values significantly different? Are they within the same order of magnitude?"
   ]
  },
  {
   "cell_type": "markdown",
   "metadata": {
    "id": "uhE9FCwrisug",
    "pycharm": {
     "name": "#%% md\n"
    }
   },
   "source": [
    "# Part 4"
   ]
  },
  {
   "cell_type": "markdown",
   "metadata": {
    "id": "VCW5Nrldisug",
    "pycharm": {
     "name": "#%% md\n"
    }
   },
   "source": [
    "## Q1"
   ]
  },
  {
   "cell_type": "code",
   "execution_count": 14,
   "metadata": {
    "id": "NUcP8Wwtisuh",
    "pycharm": {
     "name": "#%%\n"
    }
   },
   "outputs": [],
   "source": [
    "# Plot the clustering coefficient of the LCC and a G(n,p) network in CCDF format"
   ]
  },
  {
   "cell_type": "markdown",
   "metadata": {
    "id": "W-6qOdw6isuh",
    "pycharm": {
     "name": "#%% md\n"
    }
   },
   "source": [
    "Are the two distributions significantly different?"
   ]
  },
  {
   "cell_type": "markdown",
   "metadata": {
    "id": "ZqygYFvGisuh",
    "pycharm": {
     "name": "#%% md\n"
    }
   },
   "source": [
    "## Q2"
   ]
  },
  {
   "cell_type": "code",
   "execution_count": 15,
   "metadata": {
    "id": "hqkOG0PSisuh",
    "pycharm": {
     "name": "#%%\n"
    }
   },
   "outputs": [],
   "source": [
    "# Plot the average clustering coefficient as a function of the node degree"
   ]
  },
  {
   "cell_type": "markdown",
   "metadata": {
    "id": "eRSEu23disuh",
    "pycharm": {
     "name": "#%% md\n"
    }
   },
   "source": [
    "What do you observe based on the above visualization?"
   ]
  },
  {
   "cell_type": "markdown",
   "metadata": {
    "id": "XJsw2zGhisuh",
    "pycharm": {
     "name": "#%% md\n"
    }
   },
   "source": [
    "## Q3"
   ]
  },
  {
   "cell_type": "code",
   "execution_count": 16,
   "metadata": {
    "id": "ikCMDoJvisui",
    "pycharm": {
     "name": "#%%\n"
    }
   },
   "outputs": [],
   "source": [
    "# Plot the transitivity coefficient of the overall network of the LCC and the 100 G(n,p) networks"
   ]
  },
  {
   "cell_type": "markdown",
   "metadata": {
    "id": "Dq-A0y8JmEsP",
    "pycharm": {
     "name": "#%% md\n"
    }
   },
   "source": [
    "## Q4"
   ]
  },
  {
   "cell_type": "markdown",
   "metadata": {
    "id": "oKdDa6Rtisui",
    "pycharm": {
     "name": "#%% md\n"
    }
   },
   "source": [
    "Combining the results of Part-3 and Part-4, can we conclude that the undirected LCC of Part-1 network is a small-world network or not? Please provide with your reasons."
   ]
  },
  {
   "cell_type": "markdown",
   "metadata": {
    "id": "fv_rSU6nisui",
    "pycharm": {
     "name": "#%% md\n"
    }
   },
   "source": [
    "# Part 5"
   ]
  },
  {
   "cell_type": "code",
   "execution_count": 16,
   "metadata": {
    "id": "yaFnD4Xnisui",
    "pycharm": {
     "name": "#%%\n"
    }
   },
   "outputs": [],
   "source": []
  },
  {
   "cell_type": "markdown",
   "metadata": {
    "id": "OHnqphq8isui",
    "pycharm": {
     "name": "#%% md\n"
    }
   },
   "source": [
    "Which of the previous triplet types are statistically more common (or less common) in the network of the LCC compared to what we would expense based on chance?"
   ]
  },
  {
   "cell_type": "markdown",
   "metadata": {
    "id": "lndECeqi0IZ6",
    "pycharm": {
     "name": "#%% md\n"
    }
   },
   "source": [
    "# Part 6"
   ]
  },
  {
   "cell_type": "markdown",
   "metadata": {
    "id": "raopWSLf0UTk",
    "pycharm": {
     "name": "#%% md\n"
    }
   },
   "source": [
    "Note that the Transitivity and the Average Clustering Coefficient are two different metrics. They may often be close but there are also some extreme cases in which the two metrics give very different answers. To see that consider a network in which two nodes A and B are connected to each other as well as to every other node. There are no other links. The total number of nodes is n. What would be the transitivity and average clustering coefficient in this case (you can simplify by assuming that n is quite large)?  Points will only be awarded for a mathematical derivation, however you may use code to verify your result."
   ]
  },
  {
   "cell_type": "code",
   "execution_count": 16,
   "metadata": {
    "id": "j4U9efrN0JJ4",
    "pycharm": {
     "name": "#%%\n"
    }
   },
   "outputs": [],
   "source": []
  }
 ],
 "metadata": {
  "colab": {
   "name": "assignment2.ipynb",
   "provenance": []
  },
  "kernelspec": {
   "display_name": "Python 3",
   "language": "python",
   "name": "python3"
  },
  "language_info": {
   "codemirror_mode": {
    "name": "ipython",
    "version": 3
   },
   "file_extension": ".py",
   "mimetype": "text/x-python",
   "name": "python",
   "nbconvert_exporter": "python",
   "pygments_lexer": "ipython3",
   "version": "3.8.5"
  }
 },
 "nbformat": 4,
 "nbformat_minor": 1
}